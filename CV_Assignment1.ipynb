{
  "nbformat": 4,
  "nbformat_minor": 0,
  "metadata": {
    "colab": {
      "name": "CV-Assignment1.ipynb",
      "provenance": [],
      "authorship_tag": "ABX9TyOLQ7G2pJlSBiY4jdGHG+0H",
      "include_colab_link": true
    },
    "kernelspec": {
      "name": "python3",
      "display_name": "Python 3"
    }
  },
  "cells": [
    {
      "cell_type": "markdown",
      "metadata": {
        "id": "view-in-github",
        "colab_type": "text"
      },
      "source": [
        "<a href=\"https://colab.research.google.com/github/RoseSarlake/Computer-Vision/blob/main/CV_Assignment1.ipynb\" target=\"_parent\"><img src=\"https://colab.research.google.com/assets/colab-badge.svg\" alt=\"Open In Colab\"/></a>"
      ]
    },
    {
      "cell_type": "code",
      "metadata": {
        "colab": {
          "base_uri": "https://localhost:8080/"
        },
        "id": "PzhY5vnYjyDp",
        "outputId": "3b496848-d645-4841-936c-def9a5f5fa29"
      },
      "source": [
        "from google.colab import drive\r\n",
        "drive.mount('/content/drive')"
      ],
      "execution_count": 2,
      "outputs": [
        {
          "output_type": "stream",
          "text": [
            "Mounted at /content/drive\n"
          ],
          "name": "stdout"
        }
      ]
    },
    {
      "cell_type": "code",
      "metadata": {
        "id": "FSCSYE-yjCJT"
      },
      "source": [
        "import numpy as np\r\n",
        "import cv2\r\n",
        "from google.colab.patches import cv2_imshow\r\n",
        "from matplotlib import pyplot as plt"
      ],
      "execution_count": 3,
      "outputs": []
    },
    {
      "cell_type": "markdown",
      "metadata": {
        "id": "UbQFCY6tkUdD"
      },
      "source": [
        "\r\n",
        "# Part 1"
      ]
    },
    {
      "cell_type": "markdown",
      "metadata": {
        "id": "RNnVmwd5koNe"
      },
      "source": [
        "A) Compute discrete masks of the Gaussian and the normalized first and second derivatives of the Gaussian, all in case 1D. Consider both the size of the mask and the sigma value as possible inputs. Draw the masks as 1D graphs and compare your plots with the mask obtained given by OpenCV’s getDerivKernels function for the same mask size. Shows examples with different mask sizes."
      ]
    },
    {
      "cell_type": "code",
      "metadata": {
        "id": "IguRsPpumBMV"
      },
      "source": [
        ""
      ],
      "execution_count": null,
      "outputs": []
    },
    {
      "cell_type": "markdown",
      "metadata": {
        "id": "iJXlTy9Ak_jA"
      },
      "source": [
        "B) Compare the masks outputted by the call cv2.getDerivKernels(0,1,9) with the masks obtained from the binomial approximation to the Gaussian function. For it, assume [-1,1] as the mask to compute first-derivative."
      ]
    },
    {
      "cell_type": "code",
      "metadata": {
        "id": "xMoQ6lejmBsR"
      },
      "source": [
        ""
      ],
      "execution_count": null,
      "outputs": []
    },
    {
      "cell_type": "markdown",
      "metadata": {
        "id": "KHBSdk7AlFTx"
      },
      "source": [
        "C) Calculate the convolution of a finite row vector with a 1D mask (Gaussian or Gaussian derivative) both of known dimension. Apply border models (copy and mirror). Use your functions from (A)"
      ]
    },
    {
      "cell_type": "code",
      "metadata": {
        "id": "D2Don8OQmCJJ"
      },
      "source": [
        ""
      ],
      "execution_count": null,
      "outputs": []
    },
    {
      "cell_type": "markdown",
      "metadata": {
        "id": "kh1aNChFlPrN"
      },
      "source": [
        "D) Compute the convolution of an image with a 2D square Gaussian mask using its functions from A. Compare yours results with the output of OpenCV’s GaussianBlur function for the same mask size. (Hint: Apply the separability of Gaussian masks)"
      ]
    },
    {
      "cell_type": "code",
      "metadata": {
        "id": "3-1pJ6CumCrN"
      },
      "source": [
        ""
      ],
      "execution_count": null,
      "outputs": []
    },
    {
      "cell_type": "markdown",
      "metadata": {
        "id": "_vnFZnLhlTEa"
      },
      "source": [
        "E) Compute the 3x3 normalized Laplacian of Gaussian mask (assume sigma=0.8). Compare your result with the mask given by the Discrete Diffusion Equation for some gamma value.\r\n",
        "Use your functions from (A)."
      ]
    },
    {
      "cell_type": "code",
      "metadata": {
        "id": "EpUkldLkmDH7"
      },
      "source": [
        ""
      ],
      "execution_count": null,
      "outputs": []
    }
  ]
}