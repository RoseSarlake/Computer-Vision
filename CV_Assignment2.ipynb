{
  "nbformat": 4,
  "nbformat_minor": 0,
  "metadata": {
    "colab": {
      "name": "CV-Assignment2.ipynb",
      "provenance": [],
      "authorship_tag": "ABX9TyOO3IKsCDL9dQzF2BC/SLg0",
      "include_colab_link": true
    },
    "kernelspec": {
      "name": "python3",
      "display_name": "Python 3"
    },
    "language_info": {
      "name": "python"
    }
  },
  "cells": [
    {
      "cell_type": "markdown",
      "metadata": {
        "id": "view-in-github",
        "colab_type": "text"
      },
      "source": [
        "<a href=\"https://colab.research.google.com/github/RoseSarlake/Computer-Vision/blob/main/CV_Assignment2.ipynb\" target=\"_parent\"><img src=\"https://colab.research.google.com/assets/colab-badge.svg\" alt=\"Open In Colab\"/></a>"
      ]
    },
    {
      "cell_type": "markdown",
      "metadata": {
        "id": "hwSTVedKjltH"
      },
      "source": [
        "# Harris derector"
      ]
    },
    {
      "cell_type": "markdown",
      "metadata": {
        "id": "gGtqE9dajjyj"
      },
      "source": [
        "a) Assume 𝜎0 = 0.5 as the smoothing of the input image. Compute the first derivative matrixes (Ix ,Iy) at a scale 𝜎𝐷 = 1.4𝜎0 . Differential masks of size 2 can be used."
      ]
    },
    {
      "cell_type": "code",
      "metadata": {
        "id": "MRqqZb86jbba"
      },
      "source": [
        ""
      ],
      "execution_count": null,
      "outputs": []
    },
    {
      "cell_type": "markdown",
      "metadata": {
        "id": "WjOdwhaWkEj-"
      },
      "source": [
        "b) Compute the three matrixes: Ix2, Iy2, IxIy"
      ]
    },
    {
      "cell_type": "code",
      "metadata": {
        "id": "ou0d8jdkkK8X"
      },
      "source": [
        ""
      ],
      "execution_count": null,
      "outputs": []
    },
    {
      "cell_type": "markdown",
      "metadata": {
        "id": "MTIQCOxzkNBx"
      },
      "source": [
        "c) Compute at each pixel the terms of the second moment matrix by convolving the three matrices in point (c) with an isotropic Gaussian of 𝜎𝐼 = 1.5𝜎𝐷. Compute Trace and Determinant in each pixel"
      ]
    },
    {
      "cell_type": "code",
      "metadata": {
        "id": "70xypXMEkSzT"
      },
      "source": [
        ""
      ],
      "execution_count": null,
      "outputs": []
    },
    {
      "cell_type": "markdown",
      "metadata": {
        "id": "VsjPVPtCkTGj"
      },
      "source": [
        "d) Apply the Harris-corner criteria to compute the Harris-feature map"
      ]
    },
    {
      "cell_type": "code",
      "metadata": {
        "id": "eZOn9MJFkWqV"
      },
      "source": [
        ""
      ],
      "execution_count": null,
      "outputs": []
    },
    {
      "cell_type": "markdown",
      "metadata": {
        "id": "GNPs7DUrkZRv"
      },
      "source": [
        "e) Apply Non-Maxima suppression to identify true Harris points. Use 5 pixels as the minimum distance between maxima."
      ]
    },
    {
      "cell_type": "code",
      "metadata": {
        "id": "v78qgqFWkbK1"
      },
      "source": [
        ""
      ],
      "execution_count": null,
      "outputs": []
    },
    {
      "cell_type": "markdown",
      "metadata": {
        "id": "QYp_3_MikcUh"
      },
      "source": [
        "f) Fix a threshold to keep only with the first 1000 highest values."
      ]
    },
    {
      "cell_type": "code",
      "metadata": {
        "id": "oTxyQ1ZZkfEX"
      },
      "source": [
        ""
      ],
      "execution_count": null,
      "outputs": []
    },
    {
      "cell_type": "markdown",
      "metadata": {
        "id": "TXXj9oTOkg_4"
      },
      "source": [
        "g) Refine the spatial coordinates of each KeyPoint using OpenCV's function cornerSubPix on a window of size 5x5."
      ]
    },
    {
      "cell_type": "code",
      "metadata": {
        "id": "JTe4-lekklzW"
      },
      "source": [
        ""
      ],
      "execution_count": null,
      "outputs": []
    },
    {
      "cell_type": "markdown",
      "metadata": {
        "id": "__YUOB1XjsCH"
      },
      "source": [
        "# Orientation and Display"
      ]
    },
    {
      "cell_type": "markdown",
      "metadata": {
        "id": "Frz1nyz1kmhj"
      },
      "source": [
        "h) Extract a signature vector, 𝑆𝑉 = (𝑥, 𝑦, 𝜃, 𝜆1, 𝜆2, 𝜎𝐼), for each Harris-point. Compute the \n",
        "region orientation 𝜃 using the angle between the eigenvector associated to the highest eigenvalue (the semi-major axis of the ellipse) and the axis x of the image"
      ]
    },
    {
      "cell_type": "code",
      "metadata": {
        "id": "N1yxxNeakoZ0"
      },
      "source": [
        ""
      ],
      "execution_count": null,
      "outputs": []
    },
    {
      "cell_type": "markdown",
      "metadata": {
        "id": "Ao52j7a1kr8C"
      },
      "source": [
        "i) Show all detected points drawing on the original image circles of radius proportional to the detection scale 𝜎𝐼 with an radio point out to the direction of 𝜃 (Hint: compute KeyPoints and use drawKeyPoints ())."
      ]
    },
    {
      "cell_type": "code",
      "metadata": {
        "id": "fnk-RiWqkwVS"
      },
      "source": [
        ""
      ],
      "execution_count": null,
      "outputs": []
    },
    {
      "cell_type": "markdown",
      "metadata": {
        "id": "RZZBmdxMkzKP"
      },
      "source": [
        "j) Show again all detected points but now drawing ellipses instead of circles and using for it the information the first five values of the signature vector. (Hint: use ellipse())"
      ]
    },
    {
      "cell_type": "code",
      "metadata": {
        "id": "ZTksnUmsk14d"
      },
      "source": [
        ""
      ],
      "execution_count": null,
      "outputs": []
    },
    {
      "cell_type": "markdown",
      "metadata": {
        "id": "gJB7s8SVjva9"
      },
      "source": [
        "# Region rectification"
      ]
    },
    {
      "cell_type": "markdown",
      "metadata": {
        "id": "ONLJBNiFk7Zo"
      },
      "source": [
        "k) Compute the isometric rectified local regions associated with Harris point integration regions. Use Baumberg’s algorithm and the Cholesky decomposition. Normalize the intensity graylevel to || ||F=1 (Frobenius’s norm)"
      ]
    },
    {
      "cell_type": "code",
      "metadata": {
        "id": "Tcf6M_CvlBA9"
      },
      "source": [
        ""
      ],
      "execution_count": null,
      "outputs": []
    },
    {
      "cell_type": "markdown",
      "metadata": {
        "id": "49iSijGPlDvn"
      },
      "source": [
        "l) Show in a panel with at least 10 original and rectified regions. As the integrations regions will be too small apply a 10x interpolation to increase the \n",
        "size."
      ]
    },
    {
      "cell_type": "markdown",
      "metadata": {
        "id": "RstemOipjwz1"
      },
      "source": [
        "# BONUS"
      ]
    },
    {
      "cell_type": "markdown",
      "metadata": {
        "id": "15cwi0RIlKcV"
      },
      "source": [
        "m) Construct a four-level Gaussian Scale-space. Assume 𝜎0 = 0.5 𝑎𝑛𝑑 𝜎𝑘 = 1.4 × 𝜎𝑘−1, 𝑘 = 1,2,3,4, as smoothing sigma on each scale. These sigma values fix \n",
        "the scale 𝜎𝐷 of the derivative on each level. Apply the above process to all pyramid levels selecting the most representatives regions from each level to a total of 1500. Show the result."
      ]
    },
    {
      "cell_type": "code",
      "metadata": {
        "id": "yxV8yoc9lPYN"
      },
      "source": [
        ""
      ],
      "execution_count": null,
      "outputs": []
    }
  ]
}