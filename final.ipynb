{
  "nbformat": 4,
  "nbformat_minor": 0,
  "metadata": {
    "colab": {
      "name": "final.ipynb",
      "provenance": [],
      "authorship_tag": "ABX9TyOcYZFMWjLxqk+wxI9H2hhN",
      "include_colab_link": true
    },
    "kernelspec": {
      "name": "python3",
      "display_name": "Python 3"
    },
    "language_info": {
      "name": "python"
    }
  },
  "cells": [
    {
      "cell_type": "markdown",
      "metadata": {
        "id": "view-in-github",
        "colab_type": "text"
      },
      "source": [
        "<a href=\"https://colab.research.google.com/github/RoseSarlake/Computer-Vision/blob/main/final.ipynb\" target=\"_parent\"><img src=\"https://colab.research.google.com/assets/colab-badge.svg\" alt=\"Open In Colab\"/></a>"
      ]
    },
    {
      "cell_type": "code",
      "metadata": {
        "colab": {
          "base_uri": "https://localhost:8080/"
        },
        "id": "wxi6OXe0Enzb",
        "outputId": "d209338b-d4f1-43d3-a560-3f42ad5d7c0a"
      },
      "source": [
        "from google.colab import drive\n",
        "drive.mount('/content/drive')"
      ],
      "execution_count": 1,
      "outputs": [
        {
          "output_type": "stream",
          "text": [
            "Mounted at /content/drive\n"
          ],
          "name": "stdout"
        }
      ]
    },
    {
      "cell_type": "code",
      "metadata": {
        "id": "n6wOmF4TFPJX"
      },
      "source": [
        "import numpy as np\n",
        "import cv2\n",
        "import math\n",
        "from google.colab.patches import cv2_imshow\n",
        "from matplotlib import pyplot as plt\n",
        "import glob"
      ],
      "execution_count": 3,
      "outputs": []
    },
    {
      "cell_type": "markdown",
      "metadata": {
        "id": "e9A2pC-ahcDQ"
      },
      "source": [
        "Read the image mosaic in a list"
      ]
    },
    {
      "cell_type": "code",
      "metadata": {
        "colab": {
          "base_uri": "https://localhost:8080/"
        },
        "id": "T8s0dIG_godQ",
        "outputId": "4f4caf37-222e-4563-80d0-44a471e0392f"
      },
      "source": [
        "# locate to images path\n",
        "path = glob.glob(\"/content/drive/MyDrive/Colab Notebooks/image/*.jpg\")\n",
        "# store in a list\n",
        "images = [cv2.imread(file) for file in path]\n",
        "# 10 images in list\n",
        "len(images)"
      ],
      "execution_count": 15,
      "outputs": [
        {
          "output_type": "execute_result",
          "data": {
            "text/plain": [
              "10"
            ]
          },
          "metadata": {
            "tags": []
          },
          "execution_count": 15
        }
      ]
    },
    {
      "cell_type": "markdown",
      "metadata": {
        "id": "RoUOfAn0MgQB"
      },
      "source": [
        "# Extract features "
      ]
    },
    {
      "cell_type": "code",
      "metadata": {
        "id": "qRZqr0mrk7YO"
      },
      "source": [
        ""
      ],
      "execution_count": null,
      "outputs": []
    },
    {
      "cell_type": "markdown",
      "metadata": {
        "id": "EYWTLMMjMio-"
      },
      "source": [
        "# Match features\n"
      ]
    },
    {
      "cell_type": "markdown",
      "metadata": {
        "id": "EzGVu_hjas4G"
      },
      "source": [
        "# Compute a homography using RANSAC"
      ]
    },
    {
      "cell_type": "markdown",
      "metadata": {
        "id": "KNj-YYKuNKsO"
      },
      "source": [
        "# Align images"
      ]
    }
  ]
}