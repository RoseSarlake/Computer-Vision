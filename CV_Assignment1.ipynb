{
  "nbformat": 4,
  "nbformat_minor": 0,
  "metadata": {
    "colab": {
      "name": "CV-Assignment1.ipynb",
      "provenance": [],
      "authorship_tag": "ABX9TyMIfKsPADvqGfPNIQzA8DYG",
      "include_colab_link": true
    },
    "kernelspec": {
      "name": "python3",
      "display_name": "Python 3"
    }
  },
  "cells": [
    {
      "cell_type": "markdown",
      "metadata": {
        "id": "view-in-github",
        "colab_type": "text"
      },
      "source": [
        "<a href=\"https://colab.research.google.com/github/RoseSarlake/Computer-Vision/blob/main/CV_Assignment1.ipynb\" target=\"_parent\"><img src=\"https://colab.research.google.com/assets/colab-badge.svg\" alt=\"Open In Colab\"/></a>"
      ]
    },
    {
      "cell_type": "code",
      "metadata": {
        "colab": {
          "base_uri": "https://localhost:8080/"
        },
        "id": "PzhY5vnYjyDp",
        "outputId": "b30c96bb-4094-4237-fdf7-77a6647c609c"
      },
      "source": [
        "from google.colab import drive\r\n",
        "drive.mount('/content/drive')"
      ],
      "execution_count": null,
      "outputs": [
        {
          "output_type": "stream",
          "text": [
            "Drive already mounted at /content/drive; to attempt to forcibly remount, call drive.mount(\"/content/drive\", force_remount=True).\n"
          ],
          "name": "stdout"
        }
      ]
    },
    {
      "cell_type": "code",
      "metadata": {
        "id": "FSCSYE-yjCJT"
      },
      "source": [
        "import numpy as np\r\n",
        "import cv2\r\n",
        "import math\r\n",
        "from google.colab.patches import cv2_imshow\r\n",
        "from matplotlib import pyplot as plt\r\n"
      ],
      "execution_count": null,
      "outputs": []
    },
    {
      "cell_type": "markdown",
      "metadata": {
        "id": "UbQFCY6tkUdD"
      },
      "source": [
        "\r\n",
        "# Part 1"
      ]
    },
    {
      "cell_type": "markdown",
      "metadata": {
        "id": "RNnVmwd5koNe"
      },
      "source": [
        "A) Compute discrete masks of the Gaussian and the normalized first and second derivatives of the Gaussian, all in case 1D. Consider both the size of the mask and the sigma value as possible inputs. Draw the masks as 1D graphs and compare your plots with the mask obtained given by OpenCV’s getDerivKernels function for the same mask size. Shows examples with different mask sizes."
      ]
    },
    {
      "cell_type": "markdown",
      "metadata": {
        "id": "0KAxKSJusK6o"
      },
      "source": [
        "1. Generate Gaussian kernel, the size and sigma can be input"
      ]
    },
    {
      "cell_type": "code",
      "metadata": {
        "id": "IguRsPpumBMV"
      },
      "source": [
        "def My_Gaussian(size,sigma):\r\n",
        "  w = size \r\n",
        "  hw = (w-1)/2\r\n",
        "  sum = 0\r\n",
        "  g = np.zeros(w)\r\n",
        "  for i in range(0,w):\r\n",
        "    # The continuous normalization factor can be ignored since it disappears in the discrete normalization step\r\n",
        "    g[i] = math.exp(-((i-hw)*(i-hw))/(2*sigma*sigma))\r\n",
        "    sum += g[i]\r\n",
        "  for i in range(0,w):\r\n",
        "    g[i] /= sum\r\n",
        "  return g"
      ],
      "execution_count": 120,
      "outputs": []
    },
    {
      "cell_type": "markdown",
      "metadata": {
        "id": "ZTOVjRs0sXPX"
      },
      "source": [
        "2. Generate Gaussian derivatives kernel, the size and sigma can be input"
      ]
    },
    {
      "cell_type": "code",
      "metadata": {
        "id": "h55ft4b_i8y1"
      },
      "source": [
        "def My_Gaussian_d(size,sigma):\r\n",
        "  w = size \r\n",
        "  hw = (w-1)/2\r\n",
        "  sum = 0\r\n",
        "  gp = np.zeros(w)\r\n",
        "  for i in range(0,w):\r\n",
        "    # Normalization for differentiating kernels is different from normalization for Gaussian kernels\r\n",
        "    gp[i] = -(i-hw)*math.exp(-((i-hw)*(i-hw))/(2*sigma*sigma))\r\n",
        "    sum += i*gp[i]\r\n",
        "  for i in range(0,w):\r\n",
        "    gp[i] /= sum\r\n",
        "  return gp"
      ],
      "execution_count": 140,
      "outputs": []
    },
    {
      "cell_type": "markdown",
      "metadata": {
        "id": "0wWTcSBWs5O0"
      },
      "source": [
        "3. Comparation using getDerivKernels"
      ]
    },
    {
      "cell_type": "markdown",
      "metadata": {
        "id": "6RwM2GgUu7lR"
      },
      "source": [
        "(1) Gaussian kernel"
      ]
    },
    {
      "cell_type": "code",
      "metadata": {
        "colab": {
          "base_uri": "https://localhost:8080/",
          "height": 427
        },
        "id": "wR1FEtGrLz5f",
        "outputId": "5286be15-c143-4188-ee90-dea4a8366d0f"
      },
      "source": [
        "k1_g_my1=My_Gaussian(5,1)\r\n",
        "print(k1_g_my)\r\n",
        "plt.plot(k1_g_my1)\r\n",
        "plt.plot(k1_g_my1,\"o\")\r\n",
        "\r\n",
        "k1_gp_py1 = cv2.getDerivKernels(1,0,5,normalize= True)\r\n",
        "print(k1_gp_py1[1])\r\n",
        "plt.plot(k1_gp_py1[1])\r\n",
        "plt.plot(k1_gp_py1[1],\"o\")"
      ],
      "execution_count": 190,
      "outputs": [
        {
          "output_type": "stream",
          "text": [
            "[1.33830625e-04 4.43186162e-03 5.39911274e-02 2.41971446e-01\n",
            " 3.98943469e-01 2.41971446e-01 5.39911274e-02 4.43186162e-03\n",
            " 1.33830625e-04]\n",
            "[[0.0625]\n",
            " [0.25  ]\n",
            " [0.375 ]\n",
            " [0.25  ]\n",
            " [0.0625]]\n"
          ],
          "name": "stdout"
        },
        {
          "output_type": "execute_result",
          "data": {
            "text/plain": [
              "[<matplotlib.lines.Line2D at 0x7fac75cfad10>]"
            ]
          },
          "metadata": {
            "tags": []
          },
          "execution_count": 190
        },
        {
          "output_type": "display_data",
          "data": {
            "image/png": "[encoded data removed]",
            "text/plain": [
              "<Figure size 432x288 with 1 Axes>"
            ]
          },
          "metadata": {
            "tags": [],
            "needs_background": "light"
          }
        }
      ]
    },
    {
      "cell_type": "code",
      "metadata": {
        "colab": {
          "base_uri": "https://localhost:8080/",
          "height": 661
        },
        "id": "y40e6dc_vWfz",
        "outputId": "55c07c3e-a68f-4683-a4e7-0f05c51acb6d"
      },
      "source": [
        "k1_g_my2=My_Gaussian(9,1)\r\n",
        "print(k1_g_my)\r\n",
        "plt.plot(k1_g_my2)\r\n",
        "plt.plot(k1_g_my2,\"o\")\r\n",
        "\r\n",
        "k1_gp_py2 = cv2.getDerivKernels(1,0,9,normalize= True)\r\n",
        "print(k1_gp_py2[1])\r\n",
        "plt.plot(k1_gp_py2[1])\r\n",
        "plt.plot(k1_gp_py2[1],\"o\")"
      ],
      "execution_count": 208,
      "outputs": [
        {
          "output_type": "stream",
          "text": [
            "[1.33830625e-04 4.43186162e-03 5.39911274e-02 2.41971446e-01\n",
            " 3.98943469e-01 2.41971446e-01 5.39911274e-02 4.43186162e-03\n",
            " 1.33830625e-04]\n",
            "[[1.33830625e-04]\n",
            " [4.43186162e-03]\n",
            " [5.39911274e-02]\n",
            " [2.41971446e-01]\n",
            " [3.98943469e-01]\n",
            " [2.41971446e-01]\n",
            " [5.39911274e-02]\n",
            " [4.43186162e-03]\n",
            " [1.33830625e-04]]\n",
            "[[0.00390625]\n",
            " [0.03125   ]\n",
            " [0.109375  ]\n",
            " [0.21875   ]\n",
            " [0.2734375 ]\n",
            " [0.21875   ]\n",
            " [0.109375  ]\n",
            " [0.03125   ]\n",
            " [0.00390625]]\n"
          ],
          "name": "stdout"
        },
        {
          "output_type": "execute_result",
          "data": {
            "text/plain": [
              "[<matplotlib.lines.Line2D at 0x7fac75583450>]"
            ]
          },
          "metadata": {
            "tags": []
          },
          "execution_count": 208
        },
        {
          "output_type": "display_data",
          "data": {
            "image/png": "[encoded data removed]",
            "text/plain": [
              "<Figure size 432x288 with 1 Axes>"
            ]
          },
          "metadata": {
            "tags": [],
            "needs_background": "light"
          }
        }
      ]
    },
    {
      "cell_type": "markdown",
      "metadata": {
        "id": "U2nh2JSxvMAo"
      },
      "source": [
        "(2) Gaussian derivatives kernel"
      ]
    },
    {
      "cell_type": "code",
      "metadata": {
        "colab": {
          "base_uri": "https://localhost:8080/",
          "height": 391
        },
        "id": "6oEeXyzPolrz",
        "outputId": "7038bd7c-8fc3-447b-dfd5-977a0f823ee6"
      },
      "source": [
        "k1_gp_my1=My_Gaussian_d(5,1)\r\n",
        "print(k1_gp_my1)\r\n",
        "plt.plot(k1_gp_my1)\r\n",
        "plt.plot(k1_gp_my1,\"o\")\r\n",
        "k1_gp_py1 = cv2.getDerivKernels(0,1,5, normalize= True)\r\n",
        "print(k1_gp_py1[1])\r\n",
        "plt.plot(k1_gp_py1[1])\r\n",
        "plt.plot(k1_gp_py1[1],\"o\")"
      ],
      "execution_count": 201,
      "outputs": [
        {
          "output_type": "stream",
          "text": [
            "[-0.11790104 -0.26419791  0.          0.26419791  0.11790104]\n",
            "[[-0.125]\n",
            " [-0.25 ]\n",
            " [ 0.   ]\n",
            " [ 0.25 ]\n",
            " [ 0.125]]\n"
          ],
          "name": "stdout"
        },
        {
          "output_type": "execute_result",
          "data": {
            "text/plain": [
              "[<matplotlib.lines.Line2D at 0x7fac75dba590>]"
            ]
          },
          "metadata": {
            "tags": []
          },
          "execution_count": 201
        },
        {
          "output_type": "display_data",
          "data": {
            "image/png": "[encoded data removed]",
            "text/plain": [
              "<Figure size 432x288 with 1 Axes>"
            ]
          },
          "metadata": {
            "tags": [],
            "needs_background": "light"
          }
        }
      ]
    },
    {
      "cell_type": "code",
      "metadata": {
        "colab": {
          "base_uri": "https://localhost:8080/",
          "height": 481
        },
        "id": "pL1b59JYwQzv",
        "outputId": "8585beb2-0afa-493e-b559-e999625ca81f"
      },
      "source": [
        "k1_gp_my2=My_Gaussian_d(9,1)\r\n",
        "print(k1_gp_my2)\r\n",
        "plt.plot(k1_gp_my2)\r\n",
        "plt.plot(k1_gp_my2,\"o\")\r\n",
        "\r\n",
        "k1_gp_py2 = cv2.getDerivKernels(0,1,9, normalize= True)\r\n",
        "print(k1_gp_py2[1])\r\n",
        "plt.plot(k1_gp_py2[1])\r\n",
        "plt.plot(k1_gp_py2[1],\"o\")"
      ],
      "execution_count": 215,
      "outputs": [
        {
          "output_type": "stream",
          "text": [
            "[-0.00053536 -0.01329654 -0.10799003 -0.24198887  0.          0.24198887\n",
            "  0.10799003  0.01329654  0.00053536]\n",
            "[[-0.0078125]\n",
            " [-0.046875 ]\n",
            " [-0.109375 ]\n",
            " [-0.109375 ]\n",
            " [ 0.       ]\n",
            " [ 0.109375 ]\n",
            " [ 0.109375 ]\n",
            " [ 0.046875 ]\n",
            " [ 0.0078125]]\n"
          ],
          "name": "stdout"
        },
        {
          "output_type": "execute_result",
          "data": {
            "text/plain": [
              "[<matplotlib.lines.Line2D at 0x7fac7550b190>]"
            ]
          },
          "metadata": {
            "tags": []
          },
          "execution_count": 215
        },
        {
          "output_type": "display_data",
          "data": {
            "image/png": "[encoded data removed]",
            "text/plain": [
              "<Figure size 432x288 with 1 Axes>"
            ]
          },
          "metadata": {
            "tags": [],
            "needs_background": "light"
          }
        }
      ]
    },
    {
      "cell_type": "markdown",
      "metadata": {
        "id": "iJXlTy9Ak_jA"
      },
      "source": [
        "B) Compare the masks outputted by the call cv2.getDerivKernels(0,1,9) with the masks obtained from the binomial approximation to the Gaussian function. For it, assume [-1,1] as the mask to compute first-derivative."
      ]
    },
    {
      "cell_type": "markdown",
      "metadata": {
        "id": "qnngEF1SC5be"
      },
      "source": [
        "1. binomial approximation and comparation"
      ]
    },
    {
      "cell_type": "code",
      "metadata": {
        "id": "xMoQ6lejmBsR"
      },
      "source": [
        "def My_binomial(n):\r\n",
        "  s = []\r\n",
        "  for i in range(1, n+1): \r\n",
        "    # first value in a line is always 1 \r\n",
        "    C = 1\r\n",
        "    for j in range(1, i+1): \r\n",
        "      # using Binomial Coefficient \r\n",
        "      s.append(C)\r\n",
        "      C = C * (i - j) // j \r\n",
        "  return s[-n:]\r\n"
      ],
      "execution_count": 289,
      "outputs": []
    },
    {
      "cell_type": "code",
      "metadata": {
        "colab": {
          "base_uri": "https://localhost:8080/",
          "height": 463
        },
        "id": "POweVzC13zNG",
        "outputId": "5e17e2da-a563-41c1-bd04-0b70864ef812"
      },
      "source": [
        "k2_b_my = My_binomial(9)\r\n",
        "print(k2_b_my)\r\n",
        "plt.plot(k2_b_my)\r\n",
        "k2_b_py = cv2.getDerivKernels(0,1,9)\r\n",
        "print(k2_b_py[0])\r\n",
        "plt.plot(k2_b_py[0],\"o\")"
      ],
      "execution_count": 302,
      "outputs": [
        {
          "output_type": "stream",
          "text": [
            "[1, 8, 28, 56, 70, 56, 28, 8, 1]\n",
            "[[ 1.]\n",
            " [ 8.]\n",
            " [28.]\n",
            " [56.]\n",
            " [70.]\n",
            " [56.]\n",
            " [28.]\n",
            " [ 8.]\n",
            " [ 1.]]\n"
          ],
          "name": "stdout"
        },
        {
          "output_type": "execute_result",
          "data": {
            "text/plain": [
              "[<matplotlib.lines.Line2D at 0x7fac74fe9250>]"
            ]
          },
          "metadata": {
            "tags": []
          },
          "execution_count": 302
        },
        {
          "output_type": "display_data",
          "data": {
            "image/png": "[encoded data removed]",
            "text/plain": [
              "<Figure size 432x288 with 1 Axes>"
            ]
          },
          "metadata": {
            "tags": [],
            "needs_background": "light"
          }
        }
      ]
    },
    {
      "cell_type": "markdown",
      "metadata": {
        "id": "Bl_9GvqADK04"
      },
      "source": [
        "2. First-derivative (assume [-1,1] as the mask)"
      ]
    },
    {
      "cell_type": "code",
      "metadata": {
        "colab": {
          "base_uri": "https://localhost:8080/",
          "height": 465
        },
        "id": "vQ8sGmsg58i-",
        "outputId": "ce397a98-27e9-4966-bda1-785fa5d7f70a"
      },
      "source": [
        "k2_bp_my = np.convolve(k2_b_my, [-1,1])\r\n",
        "print(k2_bp_my)\r\n",
        "plt.plot(k2_bp_my)\r\n",
        "plt.plot(k2_bp_my,\"o\")\r\n",
        "k2_bp_py = cv2.getDerivKernels(0,1,9)\r\n",
        "print(k2_bp_py[1])\r\n",
        "plt.plot(k2_bp_py[1])\r\n",
        "plt.plot(k2_bp_py[1],\"o\")"
      ],
      "execution_count": 310,
      "outputs": [
        {
          "output_type": "stream",
          "text": [
            "[ -1  -7 -20 -28 -14  14  28  20   7   1]\n",
            "[[ -1.]\n",
            " [ -6.]\n",
            " [-14.]\n",
            " [-14.]\n",
            " [  0.]\n",
            " [ 14.]\n",
            " [ 14.]\n",
            " [  6.]\n",
            " [  1.]]\n"
          ],
          "name": "stdout"
        },
        {
          "output_type": "execute_result",
          "data": {
            "text/plain": [
              "[<matplotlib.lines.Line2D at 0x7fac74e2b0d0>]"
            ]
          },
          "metadata": {
            "tags": []
          },
          "execution_count": 310
        },
        {
          "output_type": "display_data",
          "data": {
            "image/png": "[encoded data removed]",
            "text/plain": [
              "<Figure size 432x288 with 1 Axes>"
            ]
          },
          "metadata": {
            "tags": [],
            "needs_background": "light"
          }
        }
      ]
    },
    {
      "cell_type": "markdown",
      "metadata": {
        "id": "KHBSdk7AlFTx"
      },
      "source": [
        "C) Calculate the convolution of a finite row vector with a 1D mask (Gaussian or Gaussian derivative) both of known dimension. Apply border models (copy and mirror). Use your functions from (A)"
      ]
    },
    {
      "cell_type": "markdown",
      "metadata": {
        "id": "7vxyECHtMWgV"
      },
      "source": [
        "1. Gaussion with mirror border (BORDER_REFLECT)"
      ]
    },
    {
      "cell_type": "code",
      "metadata": {
        "id": "D2Don8OQmCJJ",
        "colab": {
          "base_uri": "https://localhost:8080/",
          "height": 643
        },
        "outputId": "dcafd70f-bad6-4fc9-e6fd-7c7e265800ac"
      },
      "source": [
        "My_row = [1,2,4,6,7,7,7,8,10,11]\r\n",
        "k3_g_k = My_Gaussian(5,1)\r\n",
        "k3_g_con = np.convolve(My_row,k3_g_k)\r\n",
        "print(k3_g_con)\r\n",
        "plt.plot(k3_g_con)\r\n",
        "k3_g_mirror = cv2.copyMakeBorder(np.float32(k3_g_con),2,2,0,0,cv2.BORDER_REFLECT)\r\n",
        "print(k3_g_mirror)"
      ],
      "execution_count": 331,
      "outputs": [
        {
          "output_type": "stream",
          "text": [
            "[0.05448868 0.35317871 1.10897737 2.35317871 4.         5.5923326\n",
            " 6.5923326  7.         7.4076674  8.35317871 9.04744576 7.30674231\n",
            " 3.23110161 0.59937553]\n",
            "[[0.3531787 ]\n",
            " [0.05448868]\n",
            " [0.05448868]\n",
            " [0.3531787 ]\n",
            " [1.1089773 ]\n",
            " [2.3531787 ]\n",
            " [4.        ]\n",
            " [5.592333  ]\n",
            " [6.592333  ]\n",
            " [7.        ]\n",
            " [7.407667  ]\n",
            " [8.353179  ]\n",
            " [9.047445  ]\n",
            " [7.306742  ]\n",
            " [3.2311015 ]\n",
            " [0.59937555]\n",
            " [0.59937555]\n",
            " [3.2311015 ]]\n"
          ],
          "name": "stdout"
        },
        {
          "output_type": "display_data",
          "data": {
            "image/png": "[encoded data removed]",
            "text/plain": [
              "<Figure size 432x288 with 1 Axes>"
            ]
          },
          "metadata": {
            "tags": [],
            "needs_background": "light"
          }
        }
      ]
    },
    {
      "cell_type": "markdown",
      "metadata": {
        "id": "0tl-1wOOMnDT"
      },
      "source": [
        "2. Gaussion derivative with copy border (BORDER_REPLICATE)"
      ]
    },
    {
      "cell_type": "code",
      "metadata": {
        "colab": {
          "base_uri": "https://localhost:8080/",
          "height": 643
        },
        "id": "Dy8yGEuOOVWv",
        "outputId": "342577e6-9837-4bf0-88b7-703374ebd82f"
      },
      "source": [
        "k3_gp_k = My_Gaussian_d(5,1)\r\n",
        "k3_gp_con = np.convolve(My_row,k3_gp_k)\r\n",
        "print(k3_gp_con)\r\n",
        "plt.plot(k3_gp_con)\r\n",
        "k3_gp_copy = cv2.copyMakeBorder(np.float32(k3_gp_con),2,2,0,0,cv2.BORDER_REPLICATE)\r\n",
        "print(k3_gp_copy)"
      ],
      "execution_count": 332,
      "outputs": [
        {
          "output_type": "stream",
          "text": [
            "[-0.11790104 -0.5        -1.         -1.5        -1.76419791 -1.38209896\n",
            " -0.61790104 -0.23580209 -0.61790104 -1.26419791  0.03271358  3.58518747\n",
            "  4.08518747  1.29691149]\n",
            "[[-0.11790104]\n",
            " [-0.11790104]\n",
            " [-0.11790104]\n",
            " [-0.5       ]\n",
            " [-1.        ]\n",
            " [-1.5       ]\n",
            " [-1.764198  ]\n",
            " [-1.3820989 ]\n",
            " [-0.617901  ]\n",
            " [-0.23580208]\n",
            " [-0.617901  ]\n",
            " [-1.264198  ]\n",
            " [ 0.03271358]\n",
            " [ 3.5851874 ]\n",
            " [ 4.0851874 ]\n",
            " [ 1.2969115 ]\n",
            " [ 1.2969115 ]\n",
            " [ 1.2969115 ]]\n"
          ],
          "name": "stdout"
        },
        {
          "output_type": "display_data",
          "data": {
            "image/png": "[encoded data removed]",
            "text/plain": [
              "<Figure size 432x288 with 1 Axes>"
            ]
          },
          "metadata": {
            "tags": [],
            "needs_background": "light"
          }
        }
      ]
    },
    {
      "cell_type": "markdown",
      "metadata": {
        "id": "kh1aNChFlPrN"
      },
      "source": [
        "D) Compute the convolution of an image with a 2D square Gaussian mask using its functions from A. Compare yours results with the output of OpenCV’s GaussianBlur function for the same mask size. (Hint: Apply the separability of Gaussian masks)"
      ]
    },
    {
      "cell_type": "code",
      "metadata": {
        "id": "3-1pJ6CumCrN"
      },
      "source": [
        "k3_g_k = My_Gaussian(5,1)\r\n",
        "k3_g_con = np.convolve(My_row,My_kernal)\r\n",
        "print(k3_g_con)\r\n",
        "\r\n",
        "k3_g_mirror = cv2.copyMakeBorder(np.float32(k3_g_con),2,2,0,0,cv2.BORDER_REFLECT)\r\n",
        "print(k3_g_mirror)"
      ],
      "execution_count": null,
      "outputs": []
    },
    {
      "cell_type": "markdown",
      "metadata": {
        "id": "_vnFZnLhlTEa"
      },
      "source": [
        "E) Compute the 3x3 normalized Laplacian of Gaussian mask (assume sigma=0.8). Compare your result with the mask given by the Discrete Diffusion Equation for some gamma value.\r\n",
        "Use your functions from (A)."
      ]
    },
    {
      "cell_type": "code",
      "metadata": {
        "id": "EpUkldLkmDH7"
      },
      "source": [
        ""
      ],
      "execution_count": null,
      "outputs": []
    },
    {
      "cell_type": "markdown",
      "metadata": {
        "id": "a23hUc5j-SSH"
      },
      "source": [
        "# Part 2"
      ]
    },
    {
      "cell_type": "markdown",
      "metadata": {
        "id": "8UcN-iDc-War"
      },
      "source": [
        "A) Sampling an image with factors 2n\r\n",
        ", n=1,2,3,4."
      ]
    },
    {
      "cell_type": "code",
      "metadata": {
        "id": "SxasrxM7-Zh2"
      },
      "source": [
        ""
      ],
      "execution_count": null,
      "outputs": []
    },
    {
      "cell_type": "markdown",
      "metadata": {
        "id": "0OfWGmHC-Z60"
      },
      "source": [
        "B) Calculate a 4-level Gaussian pyramid representation of an image. Show examples with at least two images using mirrored edges. Compare your result with the result of using OpenCV's pyrUp () function for the same parameters. Shows all the levels of the pyramid in a single image."
      ]
    },
    {
      "cell_type": "code",
      "metadata": {
        "id": "ruaOUEHm-hMP"
      },
      "source": [
        ""
      ],
      "execution_count": null,
      "outputs": []
    },
    {
      "cell_type": "markdown",
      "metadata": {
        "id": "1-0xE_lR-hsK"
      },
      "source": [
        "C) Build up Lowe's pyramid scale space. Show examples with at least three different pictures. Show each octave in a different image."
      ]
    },
    {
      "cell_type": "code",
      "metadata": {
        "id": "b6igq5w7-myx"
      },
      "source": [
        ""
      ],
      "execution_count": null,
      "outputs": []
    },
    {
      "cell_type": "markdown",
      "metadata": {
        "id": "gJn4odab-nDc"
      },
      "source": [
        "D) Implement a 4-level Laplacian pyramid. Verify that an exact copy of the original image can be computed. Show examples using replicated edges. Show all the levels of the pyramid in a single image."
      ]
    },
    {
      "cell_type": "code",
      "metadata": {
        "id": "LokJ6B_9-rkv"
      },
      "source": [
        ""
      ],
      "execution_count": null,
      "outputs": []
    },
    {
      "cell_type": "markdown",
      "metadata": {
        "id": "Gksq2dMI-t5D"
      },
      "source": [
        "3.- BONUS (optional)( 2 points) : Could you think of more efficient algorithms for 2D convolution than applying 1D convolution by rows and columns? (Hint: Matrices in NumPy can compute vector operations)"
      ]
    }
  ]
}